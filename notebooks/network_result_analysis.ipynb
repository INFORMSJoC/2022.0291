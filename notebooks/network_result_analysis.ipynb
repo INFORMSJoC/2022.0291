{
 "cells": [
  {
   "cell_type": "code",
   "execution_count": null,
   "id": "dcf1e14e-fcf0-4d7e-98d5-748cea8cfd9a",
   "metadata": {
    "tags": []
   },
   "outputs": [],
   "source": [
    "%load_ext autoreload\n",
    "%autoreload 2"
   ]
  },
  {
   "cell_type": "code",
   "execution_count": null,
   "id": "e2911089-fc71-47f5-bb73-d1ff9c409304",
   "metadata": {},
   "outputs": [],
   "source": [
    "import sys\n",
    "sys.path.append(\"../src\")"
   ]
  },
  {
   "cell_type": "code",
   "execution_count": null,
   "id": "4d68620a-7a9b-4a77-a65b-1e6c52afaba7",
   "metadata": {},
   "outputs": [],
   "source": [
    "from smart_crossover.filehandling import read_results_from_pickle\n",
    "from smart_crossover.visualization import get_crossover_comparison_df_net, get_total_time_comparison_df_net\n",
    "from smart_crossover import get_project_root"
   ]
  },
  {
   "cell_type": "markdown",
   "id": "c4de492c-3b01-4836-b143-a8c35cff7c54",
   "metadata": {},
   "source": [
    "## OT"
   ]
  },
  {
   "cell_type": "code",
   "execution_count": null,
   "id": "b4722754-5c0b-4bee-b6a5-47d105d97acd",
   "metadata": {},
   "outputs": [],
   "source": [
    "log_dir = get_project_root() / \"results\" / \"logs\" / \"ot\"\n",
    "results_path = get_project_root() / \"results\""
   ]
  },
  {
   "cell_type": "code",
   "execution_count": null,
   "id": "0abc50bb-9883-4cbe-aa4b-9f5ad0321a47",
   "metadata": {
    "tags": []
   },
   "outputs": [],
   "source": [
    "df_ot_cross_2_SE = get_crossover_comparison_df_net(log_dir, results_path, problem='ot', precision=2, pricing='SE')\n",
    "df_ot_cross_8_SE = get_crossover_comparison_df_net(log_dir, results_path, problem='ot', precision=8, pricing='SE')"
   ]
  },
  {
   "cell_type": "code",
   "execution_count": null,
   "id": "4b4da818-1d42-45cf-bb64-27cef65a2b50",
   "metadata": {},
   "outputs": [],
   "source": [
    "df_ot_cross_2_SE"
   ]
  },
  {
   "cell_type": "code",
   "execution_count": null,
   "id": "3b21a81c-5295-41bb-9951-8b1a6d309601",
   "metadata": {},
   "outputs": [],
   "source": [
    "df_ot_cross_8_SE"
   ]
  },
  {
   "cell_type": "code",
   "execution_count": null,
   "id": "a28f8101-5953-472d-ad8c-d423522cade2",
   "metadata": {},
   "outputs": [],
   "source": [
    "df_total = get_total_time_comparison_df_net(results_path, precision=2, pricing='PP')"
   ]
  },
  {
   "cell_type": "code",
   "execution_count": null,
   "id": "c57743dd-1178-414b-ae1c-ce8633497488",
   "metadata": {},
   "outputs": [],
   "source": [
    "df_total"
   ]
  },
  {
   "cell_type": "code",
   "execution_count": null,
   "id": "c28f251a-918d-4e3d-a37a-cd51ddd488b9",
   "metadata": {},
   "outputs": [],
   "source": [
    "from smart_crossover.visualization import read_results_from_pickle, get_df_from_results_ot"
   ]
  },
  {
   "cell_type": "code",
   "execution_count": null,
   "id": "46fa93d7-6056-4db3-9e55-9ea2fa3a06b6",
   "metadata": {},
   "outputs": [],
   "source": [
    "data = read_results_from_pickle(str(results_path / f\"ot_results_total_2_PP.pickle\"))\n",
    "df = get_df_from_results_ot(data, problem='ot')"
   ]
  },
  {
   "cell_type": "code",
   "execution_count": null,
   "id": "97604648-b500-4b89-b458-274d6cb4183b",
   "metadata": {
    "tags": []
   },
   "outputs": [],
   "source": [
    "df"
   ]
  },
  {
   "cell_type": "markdown",
   "id": "cbcb3619-5d2a-48e5-a877-b3febc2dcde5",
   "metadata": {},
   "source": [
    "## MCF"
   ]
  },
  {
   "cell_type": "code",
   "execution_count": null,
   "id": "c5d4b11e-63e1-4e0c-95c9-64ae64efde4b",
   "metadata": {},
   "outputs": [],
   "source": [
    "log_dir = get_project_root() / \"results\" / \"logs\" / \"mcf\"\n",
    "results_path = get_project_root() / \"results\""
   ]
  },
  {
   "cell_type": "code",
   "execution_count": null,
   "id": "3ea99e29-b9ab-465c-8182-ac0702b2c358",
   "metadata": {},
   "outputs": [],
   "source": [
    "df_mcf = get_crossover_comparison_df_net(log_dir, results_path, precision=8, problem='mcf', pricing='SE')"
   ]
  },
  {
   "cell_type": "code",
   "execution_count": null,
   "id": "101388be-26ff-416b-b113-480e07f3d77c",
   "metadata": {},
   "outputs": [],
   "source": [
    "df_mcf"
   ]
  },
  {
   "cell_type": "code",
   "execution_count": null,
   "id": "c4a3d343-731f-4cf8-992d-5ffa8e3850fc",
   "metadata": {},
   "outputs": [],
   "source": [
    "import pandas as pd\n",
    "from scipy.stats.mstats import gmean\n",
    "def get_mean(df_mcf: pd.DataFrame, mean_type: str = 'geometric') -> pd.DataFrame:\n",
    "    if mean_type == 'geometric':\n",
    "        mean_df = pd.DataFrame(gmean(df_mcf, axis=0)).T\n",
    "    elif mean_type == 'arithmetic':\n",
    "        mean_df = pd.DataFrame(df_mcf.mean(axis=0)).T\n",
    "    else:\n",
    "        raise ValueError('Invalid mean type. Please choose either \"geometric\" or \"arithmetic\".')\n",
    "    mean_df.columns = df_mcf.columns\n",
    "    return mean_df\n",
    "\n",
    "df_mean = get_mean(df_mcf, mean_type='geometric')"
   ]
  },
  {
   "cell_type": "code",
   "execution_count": null,
   "id": "c1e42cb7-91b0-47cd-bba6-1e28a7ae74c0",
   "metadata": {},
   "outputs": [],
   "source": [
    "df_mean"
   ]
  }
 ],
 "metadata": {
  "kernelspec": {
   "display_name": "IE8534",
   "language": "python",
   "name": "ie8534"
  },
  "language_info": {
   "codemirror_mode": {
    "name": "ipython",
    "version": 3
   },
   "file_extension": ".py",
   "mimetype": "text/x-python",
   "name": "python",
   "nbconvert_exporter": "python",
   "pygments_lexer": "ipython3",
   "version": "3.12.5"
  }
 },
 "nbformat": 4,
 "nbformat_minor": 5
}
