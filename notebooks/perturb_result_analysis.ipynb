{
 "cells": [
  {
   "cell_type": "code",
   "execution_count": null,
   "id": "90883177-46eb-43a4-ba60-3cddf4311a12",
   "metadata": {
    "tags": []
   },
   "outputs": [],
   "source": [
    "%load_ext autoreload\n",
    "%autoreload 2"
   ]
  },
  {
   "cell_type": "code",
   "execution_count": null,
   "id": "9a021c35-eaaf-4558-aa67-8fc3a98a23ab",
   "metadata": {},
   "outputs": [],
   "source": [
    "import sys\n",
    "sys.path.append(\"../src\")"
   ]
  },
  {
   "cell_type": "code",
   "execution_count": null,
   "id": "bc931e31-2166-46c1-ab09-df2a625f43a6",
   "metadata": {},
   "outputs": [],
   "source": [
    "import pandas as pd\n",
    "\n",
    "from smart_crossover import get_project_root\n",
    "from smart_crossover.visualization import get_complete_df_lp, plot_df_lp, plot_df_lp_old, calculate_average_improvement_lp, get_main_info_df_lp, get_additional_info_df_lp"
   ]
  },
  {
   "cell_type": "markdown",
   "id": "b2ef01c1-8fc5-423e-bc41-d4201c950fbc",
   "metadata": {},
   "source": [
    "## Results analysis"
   ]
  },
  {
   "cell_type": "markdown",
   "id": "5d861dd3-63cf-4a29-83e7-51e4a8e47bc2",
   "metadata": {},
   "source": [
    "### Gurobi"
   ]
  },
  {
   "cell_type": "code",
   "execution_count": null,
   "id": "6940fa77-7a85-44b5-9d52-3d47eaf6394a",
   "metadata": {
    "tags": []
   },
   "outputs": [],
   "source": [
    "log_dir = get_project_root() / \"results\" / \"logs\" / \"lp\""
   ]
  },
  {
   "cell_type": "code",
   "execution_count": null,
   "id": "4bcd2cc5-ce20-4708-9f97-7dda5c041635",
   "metadata": {},
   "outputs": [],
   "source": [
    "log_file_path = get_project_root() / \"results\" / \"logs\" / \"GRB_2023-11-23-00_50.log\""
   ]
  },
  {
   "cell_type": "code",
   "execution_count": null,
   "id": "867a76c6-4d01-4255-8fae-e79d766d2dda",
   "metadata": {},
   "outputs": [],
   "source": [
    "df_grb = get_complete_df_lp(log_dir=log_dir, log_file=log_file_path, solver='GRB', ptb_method='ptb', simplified=True)"
   ]
  },
  {
   "cell_type": "code",
   "execution_count": null,
   "id": "6a432fdf-b410-4f7b-b37e-1a88eae2e169",
   "metadata": {},
   "outputs": [],
   "source": [
    "calculate_average_improvement_lp(df_grb, 'ptb2')"
   ]
  },
  {
   "cell_type": "code",
   "execution_count": null,
   "id": "05e51ea3-930f-466f-84ba-9115b2c276c8",
   "metadata": {
    "tags": []
   },
   "outputs": [],
   "source": [
    "df_grb"
   ]
  },
  {
   "cell_type": "code",
   "execution_count": null,
   "id": "d0d60311-692e-4707-a0e6-ce0d825ab578",
   "metadata": {},
   "outputs": [],
   "source": [
    "plot_df_lp(df_grb, 'GRB_perturb_fig_new.pdf')"
   ]
  },
  {
   "cell_type": "markdown",
   "id": "1cd73d3a-da5c-4d43-91e2-5dddcff434a2",
   "metadata": {},
   "source": [
    "### Mosek"
   ]
  },
  {
   "cell_type": "code",
   "execution_count": null,
   "id": "6e80a984-34a8-4f57-9500-ec8b4486c164",
   "metadata": {},
   "outputs": [],
   "source": [
    "log_dir = get_project_root() / \"results\" / \"logs\" / \"lp\"\n",
    "\n",
    "log_file_path = get_project_root() / \"results\" / \"logs\" / \"MSK_2023-11-26-17_36.log\""
   ]
  },
  {
   "cell_type": "code",
   "execution_count": null,
   "id": "89380b84-e0dc-4e91-8576-2235747cf566",
   "metadata": {
    "tags": []
   },
   "outputs": [],
   "source": [
    "df_msk = get_complete_df_lp(log_dir=log_dir, log_file=log_file_path, solver='MSK', simplified=True, ptb_method='ptb')"
   ]
  },
  {
   "cell_type": "code",
   "execution_count": null,
   "id": "64aaa28f-2df1-4f44-9584-564e89d72db5",
   "metadata": {},
   "outputs": [],
   "source": [
    "df_msk"
   ]
  },
  {
   "cell_type": "code",
   "execution_count": null,
   "id": "a5df6027-f16a-43e6-a954-84cac0693357",
   "metadata": {},
   "outputs": [],
   "source": [
    "reorder_df_msk = pd.merge(df_grb[['Problem']], df_msk, on='Problem', how='left')"
   ]
  },
  {
   "cell_type": "code",
   "execution_count": null,
   "id": "57edd9a9-58e0-4940-a611-905bb2922439",
   "metadata": {},
   "outputs": [],
   "source": [
    "calculate_average_improvement_lp(df_msk, 'ptb2')"
   ]
  },
  {
   "cell_type": "code",
   "execution_count": null,
   "id": "9ff39709-7242-4378-b28a-7370ff3af23e",
   "metadata": {},
   "outputs": [],
   "source": [
    "plot_df_lp(df_msk, 'MSK_perturb_fig_new.pdf')"
   ]
  }
 ],
 "metadata": {
  "kernelspec": {
   "display_name": "smart_crossover",
   "language": "python",
   "name": "smart_crossover"
  },
  "language_info": {
   "codemirror_mode": {
    "name": "ipython",
    "version": 3
   },
   "file_extension": ".py",
   "mimetype": "text/x-python",
   "name": "python",
   "nbconvert_exporter": "python",
   "pygments_lexer": "ipython3",
   "version": "3.7.16"
  }
 },
 "nbformat": 4,
 "nbformat_minor": 5
}
